{
 "cells": [
  {
   "cell_type": "code",
   "execution_count": null,
   "metadata": {},
   "outputs": [],
   "source": [
    "import boto3\n",
    "\n",
    "my_session = boto3.session.Session(profile_name=\"myprofile\")\n",
    "client = my_session.client(\n",
    "    \"bedrock-agent-runtime\",\n",
    "    region_name=\"us-west-2\",\n",
    ")"
   ]
  },
  {
   "cell_type": "code",
   "execution_count": null,
   "metadata": {},
   "outputs": [],
   "source": [
    "response = client.invoke_inline_agent(\n",
    "    actionGroups=[\n",
    "        {\n",
    "            \"actionGroupName\": \"CodeInterpreterAction\",\n",
    "            \"parentActionGroupSignature\": \"AMAZON.CodeInterpreter\",\n",
    "        },\n",
    "    ],\n",
    "    enableTrace=True,\n",
    "    endSession=False,\n",
    "    foundationModel=\"anthropic.claude-3-sonnet-20240229-v1:0\",\n",
    "    inputText=\"Calculate the square root of 169 added to the sum of the fibonacci sequence up to 321.\",\n",
    "    instruction=\"You are a helpful assistant who can perform complex calculations and return the outputs from running Python code.\",\n",
    "    sessionId=\"session-1\",\n",
    ")\n",
    "\n",
    "eventstream = response.get(\"completion\")\n",
    "\n",
    "for event in eventstream:\n",
    "    print(event)"
   ]
  }
 ],
 "metadata": {
  "kernelspec": {
   "display_name": ".venv",
   "language": "python",
   "name": "python3"
  },
  "language_info": {
   "codemirror_mode": {
    "name": "ipython",
    "version": 3
   },
   "file_extension": ".py",
   "mimetype": "text/x-python",
   "name": "python",
   "nbconvert_exporter": "python",
   "pygments_lexer": "ipython3",
   "version": "3.9.6"
  }
 },
 "nbformat": 4,
 "nbformat_minor": 2
}
