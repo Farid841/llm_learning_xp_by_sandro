{
 "cells": [
  {
   "cell_type": "code",
   "execution_count": null,
   "metadata": {},
   "outputs": [],
   "source": [
    "from sentence_transformers import CrossEncoder, SentenceTransformer\n",
    "import numpy as np"
   ]
  },
  {
   "cell_type": "code",
   "execution_count": null,
   "metadata": {},
   "outputs": [],
   "source": [
    "# Implement Cosine Similarity function\n",
    "def cosine_similarity(a: list, b: list)-> float:\n",
    "    \"\"\"\n",
    "    Calculates the cosine similarity between two vectors.\n",
    "\n",
    "    Args:\n",
    "        a (list): The first vector.\n",
    "        b (list): The second vector.\n",
    "\n",
    "    Returns:\n",
    "        float: The cosine similarity between the two vectors.\n",
    "    \"\"\"\n",
    "    \n",
    "\n",
    "    # Calculate the cosine similarity\n",
    "    pass"
   ]
  },
  {
   "cell_type": "code",
   "execution_count": null,
   "metadata": {},
   "outputs": [],
   "source": [
    "query = \"What is the French most visited monument ?\"\n",
    "\n",
    "answers = [\n",
    "    \"The Effeil Tower is the most visited monument in France, and is located in Paris\", # True\n",
    "    \"France is an amazing country, where you should live in\", # False\n",
    "    \"How know's the French most visited monument ? \" # False\n",
    "    ]"
   ]
  },
  {
   "cell_type": "code",
   "execution_count": null,
   "metadata": {},
   "outputs": [],
   "source": [
    "embedding_model = SentenceTransformer('all-MiniLM-L6-v2')\n",
    "answer_embedding = embedding_model.encode(answers)\n",
    "query_embedding = embedding_model.encode(query)"
   ]
  },
  {
   "cell_type": "code",
   "execution_count": null,
   "metadata": {},
   "outputs": [],
   "source": [
    "scores = {cosine_similarity(query_embedding, embedding): answers[i] for i, embedding in enumerate(answer_embedding)}\n",
    "scores"
   ]
  },
  {
   "cell_type": "code",
   "execution_count": null,
   "metadata": {},
   "outputs": [],
   "source": [
    "cross_encoder_model = CrossEncoder(\"cross-encoder/ms-marco-MiniLM-L-12-v2\")\n",
    "scores = {\n",
    "    cross_encoder_model.predict([(query, answers[i])])[0]: answers[i] \n",
    "    for i in range(len(answers))\n",
    "}\n",
    "scores"
   ]
  },
  {
   "cell_type": "code",
   "execution_count": null,
   "metadata": {},
   "outputs": [],
   "source": []
  }
 ],
 "metadata": {
  "kernelspec": {
   "display_name": ".venv",
   "language": "python",
   "name": "python3"
  },
  "language_info": {
   "codemirror_mode": {
    "name": "ipython",
    "version": 3
   },
   "file_extension": ".py",
   "mimetype": "text/x-python",
   "name": "python",
   "nbconvert_exporter": "python",
   "pygments_lexer": "ipython3",
   "version": "3.9.6"
  }
 },
 "nbformat": 4,
 "nbformat_minor": 2
}
