{
 "cells": [
  {
   "cell_type": "code",
   "execution_count": 2,
   "metadata": {},
   "outputs": [],
   "source": [
    "from sentence_transformers import CrossEncoder, SentenceTransformer\n",
    "import numpy as np"
   ]
  },
  {
   "cell_type": "code",
   "execution_count": 3,
   "metadata": {},
   "outputs": [],
   "source": [
    "# Implement Cosine Similarity function\n",
    "def cosine_similarity(a: list, b: list) -> float:\n",
    "    \"\"\"\n",
    "    Calculates the cosine similarity between two vectors.\n",
    "\n",
    "    Args:\n",
    "        a (list): The first vector.\n",
    "        b (list): The second vector.\n",
    "\n",
    "    Returns:\n",
    "        float: The cosine similarity between the two vectors.\n",
    "    \"\"\"\n",
    "    # Convert lists to numpy arrays for efficient computation\n",
    "    a = np.array(a)\n",
    "    b = np.array(b)\n",
    "    \n",
    "    # Compute the dot product of the vectors\n",
    "    dot_product = np.dot(a, b)\n",
    "    \n",
    "    # Compute the magnitude (L2 norm) of each vector\n",
    "    norm_a = np.linalg.norm(a)\n",
    "    norm_b = np.linalg.norm(b)\n",
    "    \n",
    "    # Prevent division by zero by checking norms\n",
    "    if norm_a == 0 or norm_b == 0:\n",
    "        return 0.0\n",
    "    \n",
    "    # Compute cosine similarity\n",
    "    similarity = dot_product / (norm_a * norm_b)\n",
    "    \n",
    "    return similarity\n"
   ]
  },
  {
   "cell_type": "code",
   "execution_count": 15,
   "metadata": {},
   "outputs": [
    {
     "name": "stdout",
     "output_type": "stream",
     "text": [
      "Cosine Similarity: 0.9945358423571875\n"
     ]
    }
   ],
   "source": [
    "# test of function\n",
    "vector1 = [4, 5, 5]\n",
    "vector2 = [4, 4, 5]\n",
    "\n",
    "similarity = cosine_similarity(vector1, vector2)\n",
    "print(\"Cosine Similarity:\", similarity)\n"
   ]
  },
  {
   "cell_type": "code",
   "execution_count": 7,
   "metadata": {},
   "outputs": [],
   "source": [
    "query = \"What is the French most visited monument ?\"\n",
    "\n",
    "answers = [\n",
    "    \"The Effeil Tower is the most visited monument in France, and is located in Paris\", # True\n",
    "    \"France is an amazing country, where you should live in\", # False\n",
    "    \"How know's the French most visited monument ? \" # False\n",
    "    ]"
   ]
  },
  {
   "cell_type": "code",
   "execution_count": 16,
   "metadata": {},
   "outputs": [],
   "source": [
    "embedding_model = SentenceTransformer('all-MiniLM-L6-v2')\n",
    "answer_embedding = embedding_model.encode(answers)\n",
    "query_embedding = embedding_model.encode(query)"
   ]
  },
  {
   "cell_type": "code",
   "execution_count": 9,
   "metadata": {},
   "outputs": [
    {
     "data": {
      "text/plain": [
       "{np.float32(0.62850946): 'The Effeil Tower is the most visited monument in France, and is located in Paris',\n",
       " np.float32(0.46081764): 'France is an amazing country, where you should live in',\n",
       " np.float32(0.9634501): \"How know's the French most visited monument ? \"}"
      ]
     },
     "execution_count": 9,
     "metadata": {},
     "output_type": "execute_result"
    }
   ],
   "source": [
    "scores = {cosine_similarity(query_embedding, embedding): answers[i] for i, embedding in enumerate(answer_embedding)}\n",
    "scores"
   ]
  },
  {
   "cell_type": "code",
   "execution_count": 10,
   "metadata": {},
   "outputs": [
    {
     "data": {
      "text/plain": [
       "{np.float32(9.420457): 'The Effeil Tower is the most visited monument in France, and is located in Paris',\n",
       " np.float32(-7.764552): 'France is an amazing country, where you should live in',\n",
       " np.float32(5.4101825): \"How know's the French most visited monument ? \"}"
      ]
     },
     "execution_count": 10,
     "metadata": {},
     "output_type": "execute_result"
    }
   ],
   "source": [
    "cross_encoder_model = CrossEncoder(\"cross-encoder/ms-marco-MiniLM-L-12-v2\")\n",
    "scores = {\n",
    "    cross_encoder_model.predict([(query, answers[i])])[0]: answers[i] \n",
    "    for i in range(len(answers))\n",
    "}\n",
    "scores"
   ]
  },
  {
   "cell_type": "code",
   "execution_count": null,
   "metadata": {},
   "outputs": [],
   "source": []
  }
 ],
 "metadata": {
  "kernelspec": {
   "display_name": ".venv",
   "language": "python",
   "name": "python3"
  },
  "language_info": {
   "codemirror_mode": {
    "name": "ipython",
    "version": 3
   },
   "file_extension": ".py",
   "mimetype": "text/x-python",
   "name": "python",
   "nbconvert_exporter": "python",
   "pygments_lexer": "ipython3",
   "version": "3.12.7"
  }
 },
 "nbformat": 4,
 "nbformat_minor": 2
}
